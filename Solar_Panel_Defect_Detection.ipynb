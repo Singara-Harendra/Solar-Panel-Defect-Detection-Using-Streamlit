{
  "nbformat": 4,
  "nbformat_minor": 0,
  "metadata": {
    "colab": {
      "provenance": [],
      "gpuType": "T4",
      "mount_file_id": "12sl504FI6LarDbx3Bc170yJ0PhbX9OEf",
      "authorship_tag": "ABX9TyMdG5hvFSLSsqxhcq9V8/N1",
      "include_colab_link": true
    },
    "kernelspec": {
      "name": "python3",
      "display_name": "Python 3"
    },
    "language_info": {
      "name": "python"
    },
    "accelerator": "GPU"
  },
  "cells": [
    {
      "cell_type": "markdown",
      "metadata": {
        "id": "view-in-github",
        "colab_type": "text"
      },
      "source": [
        "<a href=\"https://colab.research.google.com/github/Singara-Harendra/Solar-Panel-Defect-Detection-Using-Streamlit/blob/main/Solar_Panel_Defect_Detection.ipynb\" target=\"_parent\"><img src=\"https://colab.research.google.com/assets/colab-badge.svg\" alt=\"Open In Colab\"/></a>"
      ]
    },
    {
      "cell_type": "code",
      "source": [
        "!pip install tensorflow --upgrade\n",
        "\n",
        "import os\n",
        "import numpy as np\n",
        "import tensorflow as tf\n",
        "from tensorflow.keras.applications import ResNet50\n",
        "from tensorflow.keras.layers import Dense, GlobalAveragePooling2D, Dropout\n",
        "from tensorflow.keras.models import Sequential\n",
        "from tensorflow.keras.optimizers import Adam\n",
        "from tensorflow.keras.callbacks import EarlyStopping, ModelCheckpoint\n",
        "from sklearn.model_selection import train_test_split\n",
        "from sklearn.preprocessing import LabelEncoder\n",
        "import json\n",
        "from google.colab import drive\n",
        "import matplotlib.pyplot as plt"
      ],
      "metadata": {
        "id": "2lXbscLBc5Zr"
      },
      "execution_count": null,
      "outputs": []
    },
    {
      "cell_type": "code",
      "source": [
        "drive.mount('/content/drive')"
      ],
      "metadata": {
        "colab": {
          "base_uri": "https://localhost:8080/"
        },
        "id": "xq7wg94hg-1Z",
        "outputId": "da73192a-1b57-4ff0-f825-17e4c5529960"
      },
      "execution_count": 3,
      "outputs": [
        {
          "output_type": "stream",
          "name": "stdout",
          "text": [
            "Drive already mounted at /content/drive; to attempt to forcibly remount, call drive.mount(\"/content/drive\", force_remount=True).\n"
          ]
        }
      ]
    },
    {
      "cell_type": "code",
      "source": [
        "CONFIG = {\n",
        "    \"data_dir\": \"/content/drive/MyDrive/Collab datasets/combined_shuffled\",\n",
        "    \"img_size\": (224, 224),\n",
        "    \"batch_size\": 32,\n",
        "    \"epochs\": 15,\n",
        "    \"class_names\": ['Clean', 'Electrical-damage', 'Physical-Damage', 'Bird-drop', 'Dusty', 'Snow-Covered'],\n",
        "    \"save_dir\": \"/content/drive/MyDrive/solar_model\",\n",
        "    \"learning_rate\": 0.0001,\n",
        "    \"validation_split\": 0.2,\n",
        "    \"random_state\": 42\n",
        "}\n",
        "\n",
        "os.makedirs(CONFIG[\"save_dir\"], exist_ok=True)"
      ],
      "metadata": {
        "id": "G1eTCGCoiRI0"
      },
      "execution_count": 25,
      "outputs": []
    },
    {
      "cell_type": "code",
      "source": [
        "def setup_gpu():\n",
        "    gpus = tf.config.list_physical_devices('GPU')\n",
        "    if gpus:\n",
        "        try:\n",
        "            for gpu in gpus:\n",
        "                tf.config.experimental.set_memory_growth(gpu, True)\n",
        "            print(\"✅ GPU configured successfully\")\n",
        "        except RuntimeError as e:\n",
        "            print(e)\n",
        "\n",
        "setup_gpu()"
      ],
      "metadata": {
        "colab": {
          "base_uri": "https://localhost:8080/"
        },
        "id": "qmw-IH38imGp",
        "outputId": "dc70c949-c356-4a97-9b28-5d301292b834"
      },
      "execution_count": 18,
      "outputs": [
        {
          "output_type": "stream",
          "name": "stdout",
          "text": [
            "✅ GPU configured successfully\n"
          ]
        }
      ]
    },
    {
      "cell_type": "code",
      "source": [
        "def extract_labels(image_paths):\n",
        "    \"\"\"Extracts class labels from filenames like 'classlabel_number_something.jpg'\"\"\"\n",
        "    valid_paths = []\n",
        "    labels = []\n",
        "\n",
        "    for path in image_paths:\n",
        "        try:\n",
        "            filename = os.path.basename(path)\n",
        "            # Split filename into parts (e.g., [\"Crack\", \"123\", \"abc.jpg\"])\n",
        "            parts = filename.split('_')\n",
        "\n",
        "            # The FIRST part is always the class label (e.g., \"Crack\")\n",
        "            class_name = parts[0]\n",
        "\n",
        "            # Validate against known classes\n",
        "            if class_name in CONFIG[\"class_names\"]:\n",
        "                labels.append(class_name)\n",
        "                valid_paths.append(path)\n",
        "            else:\n",
        "                print(f\"⚠️ Unknown class '{class_name}' in file: {filename}\")\n",
        "        except Exception as e:\n",
        "            print(f\"⛔ Skipping {path}: {str(e)}\")\n",
        "\n",
        "    return np.array(valid_paths), np.array(labels)"
      ],
      "metadata": {
        "id": "Em1bWNhiiqCM"
      },
      "execution_count": 19,
      "outputs": []
    },
    {
      "cell_type": "code",
      "source": [
        "def prepare_dataset():\n",
        "    print(\"🔍 Searching for images...\")\n",
        "    image_files = []\n",
        "    for root, _, files in os.walk(CONFIG[\"data_dir\"]):\n",
        "        for file in files:\n",
        "            if file.lower().endswith(('.png', '.jpg', '.jpeg')):\n",
        "                image_files.append(os.path.join(root, file))\n",
        "\n",
        "    image_paths, labels = extract_labels(image_files)\n",
        "\n",
        "    if len(image_paths) == 0:\n",
        "        raise ValueError(\"❌ No valid images found!\")\n",
        "\n",
        "    le = LabelEncoder()\n",
        "    encoded_labels = le.fit_transform(labels)\n",
        "\n",
        "    return train_test_split(\n",
        "        image_paths, encoded_labels,\n",
        "        test_size=CONFIG[\"validation_split\"],\n",
        "        random_state=CONFIG[\"random_state\"],\n",
        "        stratify=encoded_labels\n",
        "    ), le"
      ],
      "metadata": {
        "id": "7QTqMNrGjSmy"
      },
      "execution_count": 20,
      "outputs": []
    },
    {
      "cell_type": "code",
      "source": [
        "def create_data_pipeline(paths, labels, augment=False):\n",
        "    def load_and_preprocess(path, label):\n",
        "        img = tf.io.read_file(path)\n",
        "        img = tf.image.decode_jpeg(img, channels=3)\n",
        "        img = tf.image.resize(img, CONFIG[\"img_size\"])\n",
        "        img = tf.keras.applications.resnet50.preprocess_input(img)\n",
        "        return img, label\n",
        "\n",
        "    def augment_image(img, label):\n",
        "        img = tf.image.random_flip_left_right(img)\n",
        "        img = tf.image.random_brightness(img, 0.1)\n",
        "        img = tf.image.random_contrast(img, 0.9, 1.1)\n",
        "        return img, label\n",
        "\n",
        "    dataset = tf.data.Dataset.from_tensor_slices((paths, labels))\n",
        "    dataset = dataset.map(load_and_preprocess, num_parallel_calls=tf.data.AUTOTUNE)\n",
        "\n",
        "    if augment:\n",
        "        dataset = dataset.map(augment_image, num_parallel_calls=tf.data.AUTOTUNE)\n",
        "\n",
        "    return dataset.batch(CONFIG[\"batch_size\"]).prefetch(tf.data.AUTOTUNE)"
      ],
      "metadata": {
        "id": "WdyurEb8jYlT"
      },
      "execution_count": 21,
      "outputs": []
    },
    {
      "cell_type": "code",
      "source": [
        "def build_model():\n",
        "    base_model = ResNet50(\n",
        "        weights='imagenet',\n",
        "        include_top=False,\n",
        "        input_shape=(*CONFIG[\"img_size\"], 3)\n",
        "    )\n",
        "    base_model.trainable = False  # Freeze ResNet layers\n",
        "\n",
        "    model = Sequential([\n",
        "        base_model,\n",
        "        GlobalAveragePooling2D(),\n",
        "        Dropout(0.5),\n",
        "        Dense(256, activation='relu'),\n",
        "        Dropout(0.3),\n",
        "        Dense(len(CONFIG[\"class_names\"]), activation='softmax')\n",
        "    ])\n",
        "\n",
        "    model.compile(\n",
        "        optimizer=Adam(CONFIG[\"learning_rate\"]),\n",
        "        loss='sparse_categorical_crossentropy',\n",
        "        metrics=['accuracy']\n",
        "    )\n",
        "\n",
        "    print(\"🛠️ Model built successfully!\")\n",
        "    return model"
      ],
      "metadata": {
        "id": "btwff5wWjbvF"
      },
      "execution_count": 22,
      "outputs": []
    },
    {
      "cell_type": "code",
      "source": [
        "def train():\n",
        "    (train_paths, val_paths, train_labels, val_labels), label_encoder = prepare_dataset()\n",
        "\n",
        "    # Print dataset stats\n",
        "    print(\"\\n📊 Dataset Summary:\")\n",
        "    print(f\"→ Training samples: {len(train_paths)}\")\n",
        "    print(f\"→ Validation samples: {len(val_paths)}\")\n",
        "    print(\"\\n🏷️ Class Distribution:\")\n",
        "    for i, class_name in enumerate(label_encoder.classes_):\n",
        "        print(f\"{class_name}: {np.sum(train_labels == i)} train | {np.sum(val_labels == i)} val\")\n",
        "\n",
        "    train_ds = create_data_pipeline(train_paths, train_labels, augment=True)\n",
        "    val_ds = create_data_pipeline(val_paths, val_labels)\n",
        "\n",
        "    model = build_model()\n",
        "\n",
        "    callbacks = [\n",
        "        EarlyStopping(patience=5, restore_best_weights=True),\n",
        "        ModelCheckpoint(\n",
        "            filepath=os.path.join(CONFIG[\"save_dir\"], \"best_model.h5\"),\n",
        "            save_best_only=True,\n",
        "            monitor='val_accuracy'\n",
        "        )\n",
        "    ]\n",
        "\n",
        "    print(\"\\n🚀 Starting training...\")\n",
        "    history = model.fit(\n",
        "        train_ds,\n",
        "        validation_data=val_ds,\n",
        "        epochs=CONFIG[\"epochs\"],\n",
        "        callbacks=callbacks\n",
        "    )\n",
        "\n",
        "    # Save everything\n",
        "    model.save(os.path.join(CONFIG[\"save_dir\"], 'final_model.h5'))\n",
        "    np.save(os.path.join(CONFIG[\"save_dir\"], 'label_encoder.npy'), label_encoder.classes_)\n",
        "    with open(os.path.join(CONFIG[\"save_dir\"], 'config.json'), 'w') as f:\n",
        "        json.dump(CONFIG, f)\n",
        "\n",
        "    print(f\"\\n🎉 Training complete! Model saved to {CONFIG['save_dir']}\")\n",
        "    return history\n",
        "\n",
        "history = train()"
      ],
      "metadata": {
        "id": "nXA7DVNMjjD0"
      },
      "execution_count": null,
      "outputs": []
    },
    {
      "cell_type": "code",
      "source": [
        "def plot_history(history):\n",
        "    plt.figure(figsize=(12, 4))\n",
        "\n",
        "    plt.subplot(1, 2, 1)\n",
        "    plt.plot(history.history['accuracy'], label='Train Accuracy')\n",
        "    plt.plot(history.history['val_accuracy'], label='Val Accuracy')\n",
        "    plt.title('Accuracy')\n",
        "    plt.legend()\n",
        "\n",
        "    plt.subplot(1, 2, 2)\n",
        "    plt.plot(history.history['loss'], label='Train Loss')\n",
        "    plt.plot(history.history['val_loss'], label='Val Loss')\n",
        "    plt.title('Loss')\n",
        "    plt.legend()\n",
        "\n",
        "    plt.show()\n",
        "\n",
        "plot_history(history)"
      ],
      "metadata": {
        "colab": {
          "base_uri": "https://localhost:8080/",
          "height": 391
        },
        "id": "TuRXgU1AmXSY",
        "outputId": "c49d6e79-6265-4fd1-aa6b-0d452c29e8f1"
      },
      "execution_count": 36,
      "outputs": [
        {
          "output_type": "display_data",
          "data": {
            "text/plain": [
              "<Figure size 1200x400 with 2 Axes>"
            ],
            "image/png": "[encoded data removed]"
          },
          "metadata": {}
        }
      ]
    },
    {
      "cell_type": "code",
      "source": [
        "# Get the final epoch's accuracy\n",
        "final_train_acc = history.history['accuracy'][-1]\n",
        "final_val_acc = history.history['val_accuracy'][-1]\n",
        "\n",
        "print(f\"Final Training Accuracy: {final_train_acc:.2%}\")\n",
        "print(f\"Final Validation Accuracy: {final_val_acc:.2%}\")"
      ],
      "metadata": {
        "colab": {
          "base_uri": "https://localhost:8080/"
        },
        "id": "6ndq1p88xRcK",
        "outputId": "61962e7c-855b-40e1-bb8b-d711af6e1420"
      },
      "execution_count": 38,
      "outputs": [
        {
          "output_type": "stream",
          "name": "stdout",
          "text": [
            "Final Training Accuracy: 75.15%\n",
            "Final Validation Accuracy: 83.04%\n"
          ]
        }
      ]
    }
  ]
}